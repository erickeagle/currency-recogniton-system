{
 "cells": [
  {
   "cell_type": "markdown",
   "metadata": {},
   "source": [
    "# Indian Currency Notes Classification\n",
    "\n",
    "#### Objective\n",
    "\n",
    "It is challenging to recognize currencies from different countries, so we aim to solve this problem. Currency recognition systems are based on image analysis entirely, but our system is based on image processing and makes the process automatic, robust, and easy to use. \n",
    "To help visually impaired people and small kids identify currency notes using image processing and computer vision.\n",
    "The system's work compares the images of currency notes to the previously stored images of currency of different countries. \n",
    "Our motive is to make them a cheaper and accurate system for the people that can be easily used and give accurate results when recognizing currency notes.\n",
    "We are up to create a user-friendly application for the recognition of currency. \n",
    "\n",
    "### Importance and usefulness:\n",
    "\n",
    "1. This application will help the visually impaired and kids to know the value of the money by listening to the amount.\n",
    "2. We can use it in the currency monitoring system. \n",
    "3. It will help people to recognize currency from different countries. We aim to help people and kids to solve this problem. \n",
    "4. It can also be used as a learning app for kids or helps kids to recognize what amount of note they are getting when they are purchasing anything or they can learn by pointing the camera towards the image of different currency notes.\n",
    "\n",
    "### Market potential and competitive advantages\n",
    "As the number of visually impaired people is increasing year by year so they need some stuff that can help them to not fully depend on others. According to WHO report of 2010, globally the number of people of all ages visually impaired is estimated to be 285 million, of whom 39 million are blind. In 2020 globally this number increased to 1 billion people has a vision impairment that could have been prevented or has yet to be addressed. Increase in number shows that there is still a huge gap between consumer and intended product. We have to take a significant step for the betterment of visually impaired.\n",
    "There has been done some work in this field recently like Microsoft research project Seeing AI which helps in recognizing almost everything whether be it currency, any text or signboard.\n",
    "Particular to India there has been impressive effort by Indian Institute of Technology Ropar by developing an app Roshni to recognize old and new currency and Reserve Bank of India (RBI) published an app named MANI to recognize denomination of Indian currency.\n",
    "Ahmedabad based startup Torchit is creating impact in society by coming up with cost-efficient products, the same way we are also intending to help by building cost-effective solution by building a model automatic, robust, and easy to use by training on a large dataset.\n",
    "\n",
    "### TECHNOLOGY USED\n",
    "1.   Python\n",
    "2.   Jupyter Notebook\n",
    "3. Libraries used<br>\n",
    "a. Numpy<br>\n",
    "b. Pandas<br>\n",
    "c. Sklearn<br>\n",
    "d. Matplotlib<br>\n",
    "e. TensorFlow<br>\n",
    "f. Keras<br>\n",
    "\n",
    "\n",
    "#### Procedure\n",
    "1.\tUnderstand Problem Statement and Data \n",
    "2.\tLoad the packages and data \n",
    "3.\tDefining some functions for processing the image\n",
    "4.\tDefining the CNN Model\n",
    "5.  Rescaling the Image\n",
    "6.  Dividing the data and fitting the Model\n",
    "7.  Plotting Loss and accuracy\n",
    "8.  Saving the model and Testing the accuracy\n",
    " \n",
    "\n",
    "#### Understand Problem Statement and Data\n",
    "The first step we will be understanding the problem we want to solve and looking at each column in the dataset to understand them.\n",
    "\n",
    "#### Problem Statement\n",
    "Using this dataset, we are going to learn how to train tensorflow model for multi class classification.\n",
    "\n",
    "#### The Dataset Information:\n",
    "Types of Indian Currency can be Classified as:\n",
    "1)Ten Rupee Notes\n",
    "2)Twenty Rupee Notes\n",
    "3)Fifty Rupee Notes\n",
    "4)Hundred Rupee Notes\n",
    "5)Two Hundred Rupee Notes\n",
    "6)Five Hundred Rupee Notes, and,\n",
    "7)Two Thousand Rupee Notes.\n"
   ]
  },
  {
   "cell_type": "markdown",
   "metadata": {},
   "source": [
    "# Importing the libraries"
   ]
  },
  {
   "cell_type": "code",
   "execution_count": 1,
   "metadata": {},
   "outputs": [],
   "source": [
    "from tensorflow.keras.layers import Input, Lambda, Dense, Flatten\n",
    "from tensorflow.keras.models import Model\n",
    "from tensorflow.keras.preprocessing import image\n",
    "from tensorflow.keras.preprocessing.image import ImageDataGenerator,load_img\n",
    "from tensorflow.keras.models import Sequential\n",
    "from tensorflow.keras.layers import MaxPooling2D\n",
    "from tensorflow.keras.layers import Conv2D\n",
    "from keras.layers import Dense,Dropout,Activation,Flatten\n",
    "import numpy as np\n",
    "from glob import glob"
   ]
  },
  {
   "cell_type": "code",
   "execution_count": null,
   "metadata": {},
   "outputs": [],
   "source": []
  },
  {
   "cell_type": "code",
   "execution_count": 2,
   "metadata": {},
   "outputs": [],
   "source": [
    "# re-size all the images to this\n",
    "IMAGE_SIZE = [224, 224]\n",
    "\n",
    "train_path = 'image/training'\n",
    "valid_path = 'image/validation'"
   ]
  },
  {
   "cell_type": "code",
   "execution_count": 3,
   "metadata": {},
   "outputs": [],
   "source": [
    "# useful for getting number of output classes\n",
    "folders = glob('image/training/*')"
   ]
  },
  {
   "cell_type": "code",
   "execution_count": 4,
   "metadata": {},
   "outputs": [
    {
     "data": {
      "text/plain": [
       "['image/training\\\\10',\n",
       " 'image/training\\\\100',\n",
       " 'image/training\\\\20',\n",
       " 'image/training\\\\200',\n",
       " 'image/training\\\\2000',\n",
       " 'image/training\\\\50',\n",
       " 'image/training\\\\500']"
      ]
     },
     "execution_count": 4,
     "metadata": {},
     "output_type": "execute_result"
    }
   ],
   "source": [
    "folders"
   ]
  },
  {
   "cell_type": "markdown",
   "metadata": {},
   "source": [
    "### Some useful functions"
   ]
  },
  {
   "cell_type": "code",
   "execution_count": 5,
   "metadata": {},
   "outputs": [],
   "source": [
    "import cv2\n",
    "import math\n",
    "import numpy as np\n",
    "import matplotlib.pyplot as plt\n",
    "from pprint import pprint\n",
    "\n",
    "\n",
    "# For reading the image as it is\n",
    "def read_img(file_name):\n",
    "    img = cv2.imread(file_name)\n",
    "    return img\n",
    "\n",
    "\n",
    "# resizing image with fixed aspect ratio\n",
    "def resize_img(image, scale):\n",
    "    res = cv2.resize(image, None, fx=scale, fy=scale, interpolation = cv2.INTER_AREA)\n",
    "    return res\n",
    "\n",
    "\n",
    "# convert image into grayscale\n",
    "def img_to_gray(image):\n",
    "    img_gray = cv2.cvtColor(image, cv2.COLOR_RGB2GRAY)\n",
    "    return img_gray\n",
    "\n",
    "\n",
    "#  blurred grayscale\n",
    "def img_to_gaussian_gray(image):\n",
    "    img_gray = cv2.GaussianBlur(img_to_gray(image), (5, 5), 0)\n",
    "    return img_gray\n",
    "\n",
    "\n",
    "# convert image to negative\n",
    "def img_to_neg(image):\n",
    "    img_neg = 255 - image\n",
    "    return img_neg\n",
    "\n",
    "\n",
    "# binarize (threshold)\n",
    "def binary_thresh(image, threshold):\n",
    "    retval, img_thresh = cv2.threshold(image, threshold, 255, cv2.THRESH_BINARY)\n",
    "    return img_thresh\n",
    "\n",
    "def adaptive_thresh(image):\n",
    "    img_thresh = cv2.adaptiveThreshold(image, 255, cv2.ADAPTIVE_THRESH_GAUSSIAN_C, cv2.THRESH_BINARY, 11, 8)\n",
    "    return img_thresh\n",
    "\n",
    "\n",
    "# sobel edge operator\n",
    "def sobel_edge(image, align):\n",
    "    img_horiz = cv2.Sobel(image, cv2.CV_8U, 0, 1)\n",
    "    img_vert = cv2.Sobel(image, cv2.CV_8U, 1, 0)\n",
    "    if align == 'h':\n",
    "        return img_horiz\n",
    "    elif align == 'v':\n",
    "        return img_vert\n",
    "    else:\n",
    "        print('use h or v')\n",
    "\n",
    "\n",
    "# sobel edge x + y\n",
    "def sobel_edge2(image):\n",
    "    # ksize = size of extended sobel kernel\n",
    "    grad_x = cv2.Sobel(image, cv2.CV_16S, 1, 0, ksize=3, borderType = cv2.BORDER_DEFAULT)\n",
    "    grad_y = cv2.Sobel(image, cv2.CV_16S, 0, 1, ksize=3, borderType = cv2.BORDER_DEFAULT)\n",
    "\n",
    "    abs_grad_x = cv2.convertScaleAbs(grad_x)\n",
    "    abs_grad_y = cv2.convertScaleAbs(grad_y)\n",
    "\n",
    "    dst = cv2.addWeighted(abs_grad_x, 0.5, abs_grad_y, 0.5, 0)\n",
    "    return dst\n",
    "\n",
    "\n",
    "# edge operator\n",
    "def canny_edge(image, block_size, ksize):\n",
    "    img = cv2.Canny(image, block_size, ksize)\n",
    "    return img\n",
    "\n",
    "\n",
    "\n",
    "# detect countours\n",
    "def find_contours(image):\n",
    "    (_, contours, _) = cv2.findContours(image, cv2.RETR_LIST, cv2.CHAIN_APPROX_SIMPLE)\n",
    "    contours = sorted(contours, key = cv2.contourArea, reverse = True)[:5]\n",
    "    return contours\n",
    "\n",
    "\n",
    "# median blur\n",
    "def median_blur(image):\n",
    "    blurred_img = cv2.medianBlur(image, 3)\n",
    "    return blurred_img\n",
    "\n",
    "\n",
    "# dialte image to close lines\n",
    "def dilate_img(image):\n",
    "    img = cv2.dilate(image, np.ones((5,5), np.uint8))\n",
    "    return img\n",
    "\n",
    "\n",
    "# erode image\n",
    "def close(image):\n",
    "    img = cv2.Canny(image, 75, 300)\n",
    "    img = cv2.dilate(img, None)\n",
    "    img = cv2.erode(img, None)\n",
    "    return img\n",
    "\n",
    "\n",
    "def harris_edge(image):\n",
    "    img_gray = np.float32(image)\n",
    "    corners = cv2.goodFeaturesToTrack(img_gray, 4, 0.03, 200, None, None, 2,useHarrisDetector=True, k=0.04)\n",
    "    corners = np.int0(corners)\n",
    "\n",
    "    for corner in corners:\n",
    "        x, y = corner.ravel()\n",
    "        cv2.circle(image, (x, y), 3, 255, -1)\n",
    "    return image"
   ]
  },
  {
   "cell_type": "markdown",
   "metadata": {},
   "source": [
    "### Defining the CNN sequential model and its layer"
   ]
  },
  {
   "cell_type": "code",
   "execution_count": 6,
   "metadata": {},
   "outputs": [],
   "source": [
    "Classifier=Sequential()\n",
    "\n",
    "Classifier.add(Conv2D(32,(3,3), input_shape=(224,224,3), activation='relu'))\n",
    "Classifier.add(MaxPooling2D(pool_size=(2,2)))\n",
    "\n",
    "Classifier.add(Conv2D(32,(3,3),activation='relu'))\n",
    "Classifier.add(MaxPooling2D(pool_size=(2,2)))\n",
    "\n",
    "Classifier.add(Flatten())\n",
    "\n",
    "Classifier.add(Dense(units = 128, activation = 'relu'))\n",
    "Classifier.add(Dense(units = 7, activation = 'softmax'))"
   ]
  },
  {
   "cell_type": "markdown",
   "metadata": {},
   "source": [
    "### Summary of the model \n",
    "Looking into the layers of the model"
   ]
  },
  {
   "cell_type": "code",
   "execution_count": 7,
   "metadata": {},
   "outputs": [
    {
     "name": "stdout",
     "output_type": "stream",
     "text": [
      "Model: \"sequential\"\n",
      "_________________________________________________________________\n",
      "Layer (type)                 Output Shape              Param #   \n",
      "=================================================================\n",
      "conv2d (Conv2D)              (None, 222, 222, 32)      896       \n",
      "_________________________________________________________________\n",
      "max_pooling2d (MaxPooling2D) (None, 111, 111, 32)      0         \n",
      "_________________________________________________________________\n",
      "conv2d_1 (Conv2D)            (None, 109, 109, 32)      9248      \n",
      "_________________________________________________________________\n",
      "max_pooling2d_1 (MaxPooling2 (None, 54, 54, 32)        0         \n",
      "_________________________________________________________________\n",
      "flatten (Flatten)            (None, 93312)             0         \n",
      "_________________________________________________________________\n",
      "dense (Dense)                (None, 128)               11944064  \n",
      "_________________________________________________________________\n",
      "dense_1 (Dense)              (None, 7)                 903       \n",
      "=================================================================\n",
      "Total params: 11,955,111\n",
      "Trainable params: 11,955,111\n",
      "Non-trainable params: 0\n",
      "_________________________________________________________________\n"
     ]
    }
   ],
   "source": [
    "Classifier.summary()"
   ]
  },
  {
   "cell_type": "markdown",
   "metadata": {},
   "source": [
    "### Compiling the model\n",
    "We are going to use categorical crossentropy as loss function, adam as optimizer and accuracy is going to be used as metrics."
   ]
  },
  {
   "cell_type": "code",
   "execution_count": 8,
   "metadata": {},
   "outputs": [],
   "source": [
    "\n",
    "Classifier.compile(\n",
    "  loss='categorical_crossentropy',\n",
    "  optimizer='adam',\n",
    "  metrics=['accuracy']\n",
    ")"
   ]
  },
  {
   "cell_type": "markdown",
   "metadata": {},
   "source": [
    "### Use the Image Data Generator to import the images from the dataset"
   ]
  },
  {
   "cell_type": "code",
   "execution_count": 9,
   "metadata": {},
   "outputs": [],
   "source": [
    "from tensorflow.keras.preprocessing.image import ImageDataGenerator\n",
    "\n",
    "train_datagen = ImageDataGenerator(rescale = 1./255,\n",
    "                                   height_shift_range=0.2,\n",
    "                                   featurewise_center=True,\n",
    "                                   rotation_range=0.4,\n",
    "                                   horizontal_flip = True)\n",
    "\n",
    "test_datagen = ImageDataGenerator(rescale = 1./255,)"
   ]
  },
  {
   "cell_type": "markdown",
   "metadata": {},
   "source": [
    "### Making sure you provide the same target size as initialied for the image size"
   ]
  },
  {
   "cell_type": "code",
   "execution_count": 10,
   "metadata": {},
   "outputs": [
    {
     "name": "stdout",
     "output_type": "stream",
     "text": [
      "Found 3488 images belonging to 7 classes.\n"
     ]
    }
   ],
   "source": [
    "training_set = train_datagen.flow_from_directory('image/training',\n",
    "                                                 target_size = (224, 224),\n",
    "                                                 batch_size = 32,\n",
    "                                                 class_mode = 'categorical')"
   ]
  },
  {
   "cell_type": "code",
   "execution_count": 11,
   "metadata": {},
   "outputs": [
    {
     "name": "stdout",
     "output_type": "stream",
     "text": [
      "Found 315 images belonging to 7 classes.\n"
     ]
    }
   ],
   "source": [
    "test_set = test_datagen.flow_from_directory('image/validation',\n",
    "                                            target_size = (224, 224),\n",
    "                                            batch_size = 32,\n",
    "                                            class_mode = 'categorical')"
   ]
  },
  {
   "cell_type": "markdown",
   "metadata": {},
   "source": [
    "### Fitting the model"
   ]
  },
  {
   "cell_type": "code",
   "execution_count": 12,
   "metadata": {
    "scrolled": false
   },
   "outputs": [
    {
     "name": "stdout",
     "output_type": "stream",
     "text": [
      "WARNING:tensorflow:From <ipython-input-12-94a4ff304b9a>:6: Model.fit_generator (from tensorflow.python.keras.engine.training) is deprecated and will be removed in a future version.\n",
      "Instructions for updating:\n",
      "Please use Model.fit, which supports generators.\n"
     ]
    },
    {
     "name": "stderr",
     "output_type": "stream",
     "text": [
      "D:\\Applications\\Anaconda3\\envs\\py\\lib\\site-packages\\keras_preprocessing\\image\\image_data_generator.py:720: UserWarning: This ImageDataGenerator specifies `featurewise_center`, but it hasn't been fit on any training data. Fit it first by calling `.fit(numpy_data)`.\n",
      "  warnings.warn('This ImageDataGenerator specifies '\n"
     ]
    },
    {
     "name": "stdout",
     "output_type": "stream",
     "text": [
      "Epoch 1/2\n",
      "  2/109 [..............................] - ETA: 3s - loss: 6.0998 - accuracy: 0.1094WARNING:tensorflow:Callbacks method `on_train_batch_end` is slow compared to the batch time (batch time: 0.0240s vs `on_train_batch_end` time: 0.0460s). Check your callbacks.\n",
      "109/109 [==============================] - 179s 2s/step - loss: 2.2030 - accuracy: 0.2076 - val_loss: 1.6004 - val_accuracy: 0.3841\n",
      "Epoch 2/2\n",
      "109/109 [==============================] - 176s 2s/step - loss: 1.5000 - accuracy: 0.4140 - val_loss: 1.1707 - val_accuracy: 0.5429\n"
     ]
    }
   ],
   "source": [
    "from PIL import _imaging\n",
    "from PIL import Image\n",
    "import PIL\n",
    "\n",
    "r = Classifier.fit_generator(\n",
    "  training_set,\n",
    "  validation_data=test_set,\n",
    "  epochs=2,\n",
    "  steps_per_epoch=len(training_set),\n",
    "  validation_steps=len(test_set)\n",
    ")"
   ]
  },
  {
   "cell_type": "code",
   "execution_count": 13,
   "metadata": {},
   "outputs": [
    {
     "data": {
      "text/plain": [
       "{'loss': [2.2029519081115723, 1.5000200271606445],\n",
       " 'accuracy': [0.20756880939006805, 0.4139908254146576],\n",
       " 'val_loss': [1.6004128456115723, 1.1706740856170654],\n",
       " 'val_accuracy': [0.3841269910335541, 0.5428571701049805]}"
      ]
     },
     "execution_count": 13,
     "metadata": {},
     "output_type": "execute_result"
    }
   ],
   "source": [
    "r.history"
   ]
  },
  {
   "cell_type": "markdown",
   "metadata": {},
   "source": [
    "### Plotting the Loss and Accuracy"
   ]
  },
  {
   "cell_type": "code",
   "execution_count": 14,
   "metadata": {},
   "outputs": [
    {
     "data": {
      "image/png": "[encoded data removed]",
      "text/plain": [
       "<Figure size 432x288 with 1 Axes>"
      ]
     },
     "metadata": {
      "needs_background": "light"
     },
     "output_type": "display_data"
    },
    {
     "data": {
      "image/png": "[encoded data removed]",
      "text/plain": [
       "<Figure size 432x288 with 1 Axes>"
      ]
     },
     "metadata": {
      "needs_background": "light"
     },
     "output_type": "display_data"
    },
    {
     "data": {
      "text/plain": [
       "<Figure size 432x288 with 0 Axes>"
      ]
     },
     "metadata": {},
     "output_type": "display_data"
    }
   ],
   "source": [
    "import matplotlib.pyplot as plt\n",
    "# plot the loss\n",
    "plt.plot(r.history['loss'], label='train loss')\n",
    "plt.plot(r.history['val_loss'], label='val loss')\n",
    "plt.legend()\n",
    "plt.show()\n",
    "plt.savefig('LossVal_loss')\n",
    "\n",
    "# plot the accuracy\n",
    "plt.plot(r.history['accuracy'], label='train acc')\n",
    "plt.plot(r.history['val_accuracy'], label='val acc')\n",
    "plt.legend()\n",
    "plt.show()\n",
    "plt.savefig('AccVal_acc')"
   ]
  },
  {
   "cell_type": "markdown",
   "metadata": {},
   "source": [
    "### Saving the model as a h5 file"
   ]
  },
  {
   "cell_type": "code",
   "execution_count": 15,
   "metadata": {},
   "outputs": [],
   "source": [
    "from tensorflow.keras.models import load_model\n",
    "\n",
    "Classifier.save('model_Classifier.h5')"
   ]
  },
  {
   "cell_type": "markdown",
   "metadata": {},
   "source": [
    "### Using the trained model for making prediction over test data"
   ]
  },
  {
   "cell_type": "code",
   "execution_count": 16,
   "metadata": {},
   "outputs": [],
   "source": [
    "y_pred = Classifier.predict(test_set)"
   ]
  },
  {
   "cell_type": "code",
   "execution_count": 17,
   "metadata": {},
   "outputs": [
    {
     "data": {
      "text/plain": [
       "array([[6.95388466e-02, 1.68516770e-01, 3.98876011e-01, ...,\n",
       "        7.48288557e-02, 3.25307436e-02, 3.96443158e-03],\n",
       "       [1.06232360e-01, 5.63093275e-02, 2.35426158e-01, ...,\n",
       "        6.87436434e-03, 2.88531154e-01, 1.62486762e-01],\n",
       "       [1.37561947e-01, 1.13266647e-01, 3.45334291e-01, ...,\n",
       "        1.01838015e-01, 2.30280831e-01, 1.64849330e-02],\n",
       "       ...,\n",
       "       [8.86508450e-03, 6.28902376e-01, 1.20280892e-01, ...,\n",
       "        4.76496480e-02, 1.75840899e-01, 6.82706421e-04],\n",
       "       [7.79175619e-03, 1.16733480e-02, 2.87375711e-02, ...,\n",
       "        5.73078214e-05, 8.27552855e-01, 3.76800336e-02],\n",
       "       [4.23278805e-04, 8.64675403e-01, 1.98986978e-04, ...,\n",
       "        1.27915325e-06, 1.23519242e-01, 1.10706529e-02]], dtype=float32)"
      ]
     },
     "execution_count": 17,
     "metadata": {},
     "output_type": "execute_result"
    }
   ],
   "source": [
    "y_pred"
   ]
  },
  {
   "cell_type": "code",
   "execution_count": 18,
   "metadata": {},
   "outputs": [],
   "source": [
    "import numpy as np\n",
    "y_pred = np.argmax(y_pred, axis=1)"
   ]
  },
  {
   "cell_type": "code",
   "execution_count": 19,
   "metadata": {},
   "outputs": [
    {
     "data": {
      "text/plain": [
       "array([2, 5, 2, 5, 1, 4, 1, 0, 4, 6, 1, 2, 1, 5, 4, 0, 6, 3, 5, 5, 4, 5,\n",
       "       6, 4, 5, 2, 4, 6, 4, 3, 5, 6, 1, 6, 6, 3, 3, 4, 3, 5, 5, 6, 6, 5,\n",
       "       4, 5, 6, 4, 4, 5, 5, 5, 5, 4, 6, 6, 4, 5, 5, 3, 6, 5, 3, 6, 4, 5,\n",
       "       3, 0, 4, 3, 5, 6, 1, 2, 2, 3, 1, 6, 4, 2, 3, 6, 5, 2, 4, 4, 6, 4,\n",
       "       5, 3, 1, 5, 5, 6, 4, 5, 5, 4, 3, 6, 5, 1, 5, 1, 6, 1, 5, 1, 0, 1,\n",
       "       5, 3, 3, 2, 4, 5, 3, 4, 3, 6, 4, 5, 5, 4, 4, 5, 5, 3, 5, 4, 6, 3,\n",
       "       5, 1, 6, 5, 5, 5, 5, 5, 5, 3, 6, 3, 5, 4, 3, 5, 2, 0, 5, 1, 5, 3,\n",
       "       5, 6, 4, 5, 1, 1, 5, 4, 5, 0, 3, 3, 5, 3, 4, 5, 6, 5, 6, 3, 1, 5,\n",
       "       3, 2, 2, 6, 2, 4, 5, 4, 4, 5, 4, 6, 3, 4, 5, 6, 1, 0, 0, 5, 1, 5,\n",
       "       6, 1, 6, 1, 1, 1, 1, 6, 4, 4, 3, 4, 4, 3, 1, 2, 6, 5, 5, 5, 5, 1,\n",
       "       0, 1, 4, 1, 3, 1, 5, 2, 6, 1, 1, 0, 1, 4, 0, 3, 1, 2, 4, 5, 1, 4,\n",
       "       5, 5, 3, 3, 3, 4, 4, 6, 6, 5, 1, 3, 6, 5, 5, 6, 5, 6, 3, 2, 3, 5,\n",
       "       5, 4, 4, 5, 6, 5, 6, 5, 2, 6, 6, 5, 1, 5, 6, 5, 3, 5, 2, 4, 3, 4,\n",
       "       5, 4, 1, 3, 1, 0, 5, 1, 6, 5, 5, 6, 1, 4, 6, 5, 4, 3, 6, 5, 2, 4,\n",
       "       3, 4, 5, 3, 1, 5, 1], dtype=int64)"
      ]
     },
     "execution_count": 19,
     "metadata": {},
     "output_type": "execute_result"
    }
   ],
   "source": [
    "y_pred"
   ]
  },
  {
   "cell_type": "code",
   "execution_count": null,
   "metadata": {},
   "outputs": [],
   "source": []
  },
  {
   "cell_type": "code",
   "execution_count": null,
   "metadata": {},
   "outputs": [],
   "source": []
  }
 ],
 "metadata": {
  "kernelspec": {
   "display_name": "Python 3",
   "language": "python",
   "name": "python3"
  },
  "language_info": {
   "codemirror_mode": {
    "name": "ipython",
    "version": 3
   },
   "file_extension": ".py",
   "mimetype": "text/x-python",
   "name": "python",
   "nbconvert_exporter": "python",
   "pygments_lexer": "ipython3",
   "version": "3.8.10"
  }
 },
 "nbformat": 4,
 "nbformat_minor": 4
}
